{
  "nbformat": 4,
  "nbformat_minor": 0,
  "metadata": {
    "colab": {
      "name": "Word2Vec.ipynb",
      "provenance": [],
      "collapsed_sections": []
    },
    "kernelspec": {
      "name": "python3",
      "display_name": "Python 3"
    }
  },
  "cells": [
    {
      "cell_type": "code",
      "metadata": {
        "colab": {
          "base_uri": "https://localhost:8080/"
        },
        "id": "mBo7LnS5FCby",
        "outputId": "66a78aea-4b5d-45fc-96c4-00249b2b713d"
      },
      "source": [
        "import nltk\n",
        "nltk.download('punkt')"
      ],
      "execution_count": 1,
      "outputs": [
        {
          "output_type": "stream",
          "text": [
            "[nltk_data] Downloading package punkt to /root/nltk_data...\n",
            "[nltk_data]   Unzipping tokenizers/punkt.zip.\n"
          ],
          "name": "stdout"
        },
        {
          "output_type": "execute_result",
          "data": {
            "text/plain": [
              "True"
            ]
          },
          "metadata": {
            "tags": []
          },
          "execution_count": 1
        }
      ]
    },
    {
      "cell_type": "code",
      "metadata": {
        "id": "GgCwyPL6IDU2"
      },
      "source": [
        "from nltk.corpus import stopwords\n",
        "from nltk.stem import PorterStemmer,WordNetLemmatizer\n"
      ],
      "execution_count": 2,
      "outputs": []
    },
    {
      "cell_type": "code",
      "metadata": {
        "id": "JPQ-7kGtIUQB"
      },
      "source": [
        "port = PorterStemmer()\n",
        "word = WordNetLemmatizer()"
      ],
      "execution_count": 3,
      "outputs": []
    },
    {
      "cell_type": "code",
      "metadata": {
        "colab": {
          "base_uri": "https://localhost:8080/"
        },
        "id": "o6pG8xu8IZ0I",
        "outputId": "ff2b1269-d201-4da0-ec31-796d73c52f4c"
      },
      "source": [
        "nltk.download('stopwords')"
      ],
      "execution_count": 4,
      "outputs": [
        {
          "output_type": "stream",
          "text": [
            "[nltk_data] Downloading package stopwords to /root/nltk_data...\n",
            "[nltk_data]   Unzipping corpora/stopwords.zip.\n"
          ],
          "name": "stdout"
        },
        {
          "output_type": "execute_result",
          "data": {
            "text/plain": [
              "True"
            ]
          },
          "metadata": {
            "tags": []
          },
          "execution_count": 4
        }
      ]
    },
    {
      "cell_type": "code",
      "metadata": {
        "colab": {
          "base_uri": "https://localhost:8080/"
        },
        "id": "aCxanCokIhi0",
        "outputId": "eb5ae6b9-0740-4062-b9b0-4f13bc30645e"
      },
      "source": [
        "nltk.download('wordnet')"
      ],
      "execution_count": 5,
      "outputs": [
        {
          "output_type": "stream",
          "text": [
            "[nltk_data] Downloading package wordnet to /root/nltk_data...\n",
            "[nltk_data]   Unzipping corpora/wordnet.zip.\n"
          ],
          "name": "stdout"
        },
        {
          "output_type": "execute_result",
          "data": {
            "text/plain": [
              "True"
            ]
          },
          "metadata": {
            "tags": []
          },
          "execution_count": 5
        }
      ]
    },
    {
      "cell_type": "code",
      "metadata": {
        "id": "PHhf_Lj5Iju5"
      },
      "source": [
        "from gensim.models import Word2Vec"
      ],
      "execution_count": 6,
      "outputs": []
    },
    {
      "cell_type": "code",
      "metadata": {
        "id": "81tvvIz7Iy7v"
      },
      "source": [
        "paragraph = \"\"\"I have three visions for India. In 3000 years of our history, people from all over \n",
        "               the world have come and invaded us, captured our lands, conquered our minds. \n",
        "               From Alexander onwards, the Greeks, the Turks, the Moguls, the Portuguese, the British,\n",
        "               the French, the Dutch, all of them came and looted us, took over what was ours. \n",
        "               Yet we have not done this to any other nation. We have not conquered anyone. \n",
        "               We have not grabbed their land, their culture, \n",
        "               their history and tried to enforce our way of life on them. \n",
        "               Why? Because we respect the freedom of others.That is why my \n",
        "               first vision is that of freedom. I believe that India got its first vision of \n",
        "               this in 1857, when we started the War of Independence. It is this freedom that\n",
        "               we must protect and nurture and build on. If we are not free, no one will respect us.\n",
        "               My second vision for India’s development. For fifty years we have been a developing nation.\n",
        "               It is time we see ourselves as a developed nation. We are among the top 5 nations of the world\n",
        "               in terms of GDP. We have a 10 percent growth rate in most areas. Our poverty levels are falling.\n",
        "               Our achievements are being globally recognised today. Yet we lack the self-confidence to\n",
        "               see ourselves as a developed nation, self-reliant and self-assured. Isn’t this incorrect?\n",
        "               I have a third vision. India must stand up to the world. Because I believe that unless India \n",
        "               stands up to the world, no one will respect us. Only strength respects strength. We must be \n",
        "               strong not only as a military power but also as an economic power. Both must go hand-in-hand. \n",
        "               My good fortune was to have worked with three great minds. Dr. Vikram Sarabhai of the Dept. of \n",
        "               space, Professor Satish Dhawan, who succeeded him and Dr. Brahm Prakash, father of nuclear material.\n",
        "               I was lucky to have worked with all three of them closely and consider this the great opportunity of my life. \n",
        "               I see four milestones in my career\"\"\""
      ],
      "execution_count": 9,
      "outputs": []
    },
    {
      "cell_type": "code",
      "metadata": {
        "id": "wtAR-_vWJChx"
      },
      "source": [
        "import re"
      ],
      "execution_count": 10,
      "outputs": []
    },
    {
      "cell_type": "code",
      "metadata": {
        "id": "VgXrsbA9I73k"
      },
      "source": [
        "text = re.sub(r'\\[[0-9]*\\]',' ',paragraph)\n",
        "text = re.sub(r'\\s+',' ',text)\n",
        "text = text.lower()\n",
        "text = re.sub(r'\\d',' ',text)\n",
        "text = re.sub(r'\\s+',' ',text)\n"
      ],
      "execution_count": 12,
      "outputs": []
    },
    {
      "cell_type": "code",
      "metadata": {
        "colab": {
          "base_uri": "https://localhost:8080/",
          "height": 120
        },
        "id": "Q0EgrHoiJDP9",
        "outputId": "542cbf18-96e6-4584-93f5-2572d905b302"
      },
      "source": [
        "text"
      ],
      "execution_count": 13,
      "outputs": [
        {
          "output_type": "execute_result",
          "data": {
            "application/vnd.google.colaboratory.intrinsic+json": {
              "type": "string"
            },
            "text/plain": [
              "'i have three visions for india. in years of our history, people from all over the world have come and invaded us, captured our lands, conquered our minds. from alexander onwards, the greeks, the turks, the moguls, the portuguese, the british, the french, the dutch, all of them came and looted us, took over what was ours. yet we have not done this to any other nation. we have not conquered anyone. we have not grabbed their land, their culture, their history and tried to enforce our way of life on them. why? because we respect the freedom of others.that is why my first vision is that of freedom. i believe that india got its first vision of this in , when we started the war of independence. it is this freedom that we must protect and nurture and build on. if we are not free, no one will respect us. my second vision for india’s development. for fifty years we have been a developing nation. it is time we see ourselves as a developed nation. we are among the top nations of the world in terms of gdp. we have a percent growth rate in most areas. our poverty levels are falling. our achievements are being globally recognised today. yet we lack the self-confidence to see ourselves as a developed nation, self-reliant and self-assured. isn’t this incorrect? i have a third vision. india must stand up to the world. because i believe that unless india stands up to the world, no one will respect us. only strength respects strength. we must be strong not only as a military power but also as an economic power. both must go hand-in-hand. my good fortune was to have worked with three great minds. dr. vikram sarabhai of the dept. of space, professor satish dhawan, who succeeded him and dr. brahm prakash, father of nuclear material. i was lucky to have worked with all three of them closely and consider this the great opportunity of my life. i see four milestones in my career'"
            ]
          },
          "metadata": {
            "tags": []
          },
          "execution_count": 13
        }
      ]
    },
    {
      "cell_type": "code",
      "metadata": {
        "id": "yuclohg9JHJu"
      },
      "source": [
        "sentence = nltk.sent_tokenize(text)"
      ],
      "execution_count": 14,
      "outputs": []
    },
    {
      "cell_type": "code",
      "metadata": {
        "colab": {
          "base_uri": "https://localhost:8080/"
        },
        "id": "4DKDfoZSJQRv",
        "outputId": "db4ad52d-9c94-4924-aa8b-f41598f4a8c9"
      },
      "source": [
        "sentence"
      ],
      "execution_count": 15,
      "outputs": [
        {
          "output_type": "execute_result",
          "data": {
            "text/plain": [
              "['i have three visions for india.',\n",
              " 'in years of our history, people from all over the world have come and invaded us, captured our lands, conquered our minds.',\n",
              " 'from alexander onwards, the greeks, the turks, the moguls, the portuguese, the british, the french, the dutch, all of them came and looted us, took over what was ours.',\n",
              " 'yet we have not done this to any other nation.',\n",
              " 'we have not conquered anyone.',\n",
              " 'we have not grabbed their land, their culture, their history and tried to enforce our way of life on them.',\n",
              " 'why?',\n",
              " 'because we respect the freedom of others.that is why my first vision is that of freedom.',\n",
              " 'i believe that india got its first vision of this in , when we started the war of independence.',\n",
              " 'it is this freedom that we must protect and nurture and build on.',\n",
              " 'if we are not free, no one will respect us.',\n",
              " 'my second vision for india’s development.',\n",
              " 'for fifty years we have been a developing nation.',\n",
              " 'it is time we see ourselves as a developed nation.',\n",
              " 'we are among the top nations of the world in terms of gdp.',\n",
              " 'we have a percent growth rate in most areas.',\n",
              " 'our poverty levels are falling.',\n",
              " 'our achievements are being globally recognised today.',\n",
              " 'yet we lack the self-confidence to see ourselves as a developed nation, self-reliant and self-assured.',\n",
              " 'isn’t this incorrect?',\n",
              " 'i have a third vision.',\n",
              " 'india must stand up to the world.',\n",
              " 'because i believe that unless india stands up to the world, no one will respect us.',\n",
              " 'only strength respects strength.',\n",
              " 'we must be strong not only as a military power but also as an economic power.',\n",
              " 'both must go hand-in-hand.',\n",
              " 'my good fortune was to have worked with three great minds.',\n",
              " 'dr. vikram sarabhai of the dept.',\n",
              " 'of space, professor satish dhawan, who succeeded him and dr. brahm prakash, father of nuclear material.',\n",
              " 'i was lucky to have worked with all three of them closely and consider this the great opportunity of my life.',\n",
              " 'i see four milestones in my career']"
            ]
          },
          "metadata": {
            "tags": []
          },
          "execution_count": 15
        }
      ]
    },
    {
      "cell_type": "code",
      "metadata": {
        "colab": {
          "base_uri": "https://localhost:8080/"
        },
        "id": "DR_Nh57iJSGc",
        "outputId": "7ce3270c-69d3-494f-c112-76904b9754f6"
      },
      "source": [
        "len(sentence)"
      ],
      "execution_count": 16,
      "outputs": [
        {
          "output_type": "execute_result",
          "data": {
            "text/plain": [
              "31"
            ]
          },
          "metadata": {
            "tags": []
          },
          "execution_count": 16
        }
      ]
    },
    {
      "cell_type": "code",
      "metadata": {
        "id": "SaBcjwfDJT8b"
      },
      "source": [
        "sentence = [nltk.word_tokenize(i) for i in sentence]"
      ],
      "execution_count": 17,
      "outputs": []
    },
    {
      "cell_type": "code",
      "metadata": {
        "id": "eUKbX99cJo5z"
      },
      "source": [
        "for a in range(len(sentence)):\n",
        "  sentence[a] = [k for k in sentence[a] if k not in set(stopwords.words('english'))]"
      ],
      "execution_count": 20,
      "outputs": []
    },
    {
      "cell_type": "code",
      "metadata": {
        "id": "ho7RlGllKliB"
      },
      "source": [
        "model = Word2Vec(sentence,min_count=1)\n"
      ],
      "execution_count": 22,
      "outputs": []
    },
    {
      "cell_type": "code",
      "metadata": {
        "id": "6e2TjY02K3yg"
      },
      "source": [
        "words = model.wv.vocab"
      ],
      "execution_count": 23,
      "outputs": []
    },
    {
      "cell_type": "code",
      "metadata": {
        "colab": {
          "base_uri": "https://localhost:8080/"
        },
        "id": "wdrZ5-omLAbM",
        "outputId": "cb2eac0d-0d3b-4128-b857-f61abed976c6"
      },
      "source": [
        "words"
      ],
      "execution_count": 24,
      "outputs": [
        {
          "output_type": "execute_result",
          "data": {
            "text/plain": [
              "{',': <gensim.models.keyedvectors.Vocab at 0x7f6f0cd7b6d8>,\n",
              " '.': <gensim.models.keyedvectors.Vocab at 0x7f6f0cd7b518>,\n",
              " '?': <gensim.models.keyedvectors.Vocab at 0x7f6f0cd7bb38>,\n",
              " 'achievements': <gensim.models.keyedvectors.Vocab at 0x7f6f0cd7f278>,\n",
              " 'alexander': <gensim.models.keyedvectors.Vocab at 0x7f6f0cd7b4a8>,\n",
              " 'also': <gensim.models.keyedvectors.Vocab at 0x7f6f0cd7f128>,\n",
              " 'among': <gensim.models.keyedvectors.Vocab at 0x7f6f0cd7e048>,\n",
              " 'anyone': <gensim.models.keyedvectors.Vocab at 0x7f6f0cd7ba90>,\n",
              " 'areas': <gensim.models.keyedvectors.Vocab at 0x7f6f0cd7f080>,\n",
              " 'believe': <gensim.models.keyedvectors.Vocab at 0x7f6f0cd7be10>,\n",
              " 'brahm': <gensim.models.keyedvectors.Vocab at 0x7f6f13754e48>,\n",
              " 'british': <gensim.models.keyedvectors.Vocab at 0x7f6f0cd7bb00>,\n",
              " 'build': <gensim.models.keyedvectors.Vocab at 0x7f6f0cd7e9e8>,\n",
              " 'came': <gensim.models.keyedvectors.Vocab at 0x7f6f0cd7b710>,\n",
              " 'captured': <gensim.models.keyedvectors.Vocab at 0x7f6f0cd7ba20>,\n",
              " 'career': <gensim.models.keyedvectors.Vocab at 0x7f6f137546d8>,\n",
              " 'closely': <gensim.models.keyedvectors.Vocab at 0x7f6f13754a90>,\n",
              " 'come': <gensim.models.keyedvectors.Vocab at 0x7f6f0cd7bac8>,\n",
              " 'conquered': <gensim.models.keyedvectors.Vocab at 0x7f6f0cd7b400>,\n",
              " 'consider': <gensim.models.keyedvectors.Vocab at 0x7f6f13754198>,\n",
              " 'culture': <gensim.models.keyedvectors.Vocab at 0x7f6f0cd7bba8>,\n",
              " 'dept': <gensim.models.keyedvectors.Vocab at 0x7f6f0cd7f908>,\n",
              " 'developed': <gensim.models.keyedvectors.Vocab at 0x7f6f0cd7e2b0>,\n",
              " 'developing': <gensim.models.keyedvectors.Vocab at 0x7f6f0cd7e470>,\n",
              " 'development': <gensim.models.keyedvectors.Vocab at 0x7f6f0cd7e550>,\n",
              " 'dhawan': <gensim.models.keyedvectors.Vocab at 0x7f6f0cd7fa90>,\n",
              " 'done': <gensim.models.keyedvectors.Vocab at 0x7f6f0cd7bcc0>,\n",
              " 'dr.': <gensim.models.keyedvectors.Vocab at 0x7f6f0cd7fe10>,\n",
              " 'dutch': <gensim.models.keyedvectors.Vocab at 0x7f6f0cd7b828>,\n",
              " 'economic': <gensim.models.keyedvectors.Vocab at 0x7f6f0cd7ff28>,\n",
              " 'enforce': <gensim.models.keyedvectors.Vocab at 0x7f6f0cd7b4e0>,\n",
              " 'falling': <gensim.models.keyedvectors.Vocab at 0x7f6f0cd7fcf8>,\n",
              " 'father': <gensim.models.keyedvectors.Vocab at 0x7f6f137541d0>,\n",
              " 'fifty': <gensim.models.keyedvectors.Vocab at 0x7f6f0cd7e320>,\n",
              " 'first': <gensim.models.keyedvectors.Vocab at 0x7f6f0cd7b940>,\n",
              " 'fortune': <gensim.models.keyedvectors.Vocab at 0x7f6f0cd7f6d8>,\n",
              " 'four': <gensim.models.keyedvectors.Vocab at 0x7f6f137540f0>,\n",
              " 'free': <gensim.models.keyedvectors.Vocab at 0x7f6f0cd7e4a8>,\n",
              " 'freedom': <gensim.models.keyedvectors.Vocab at 0x7f6f0cd7bcf8>,\n",
              " 'french': <gensim.models.keyedvectors.Vocab at 0x7f6f0cd7b7f0>,\n",
              " 'gdp': <gensim.models.keyedvectors.Vocab at 0x7f6f0cd7e7f0>,\n",
              " 'globally': <gensim.models.keyedvectors.Vocab at 0x7f6f0cd7f668>,\n",
              " 'go': <gensim.models.keyedvectors.Vocab at 0x7f6f0cd7f978>,\n",
              " 'good': <gensim.models.keyedvectors.Vocab at 0x7f6f0cd7f860>,\n",
              " 'got': <gensim.models.keyedvectors.Vocab at 0x7f6f0cd7ba58>,\n",
              " 'grabbed': <gensim.models.keyedvectors.Vocab at 0x7f6f0cd7bda0>,\n",
              " 'great': <gensim.models.keyedvectors.Vocab at 0x7f6f0cd7f518>,\n",
              " 'greeks': <gensim.models.keyedvectors.Vocab at 0x7f6f0cd7b438>,\n",
              " 'growth': <gensim.models.keyedvectors.Vocab at 0x7f6f0cd7ec50>,\n",
              " 'hand-in-hand': <gensim.models.keyedvectors.Vocab at 0x7f6f0cd7fe80>,\n",
              " 'history': <gensim.models.keyedvectors.Vocab at 0x7f6f0cd7beb8>,\n",
              " 'incorrect': <gensim.models.keyedvectors.Vocab at 0x7f6f0cd7fa20>,\n",
              " 'independence': <gensim.models.keyedvectors.Vocab at 0x7f6f0cd7e8d0>,\n",
              " 'india': <gensim.models.keyedvectors.Vocab at 0x7f6f362a43c8>,\n",
              " 'invaded': <gensim.models.keyedvectors.Vocab at 0x7f6f0cd7be80>,\n",
              " 'lack': <gensim.models.keyedvectors.Vocab at 0x7f6f0cd7f0f0>,\n",
              " 'land': <gensim.models.keyedvectors.Vocab at 0x7f6f0cd7b5c0>,\n",
              " 'lands': <gensim.models.keyedvectors.Vocab at 0x7f6f0cd7b470>,\n",
              " 'levels': <gensim.models.keyedvectors.Vocab at 0x7f6f0cd7f898>,\n",
              " 'life': <gensim.models.keyedvectors.Vocab at 0x7f6f0cd7b6a0>,\n",
              " 'looted': <gensim.models.keyedvectors.Vocab at 0x7f6f0cd7b908>,\n",
              " 'lucky': <gensim.models.keyedvectors.Vocab at 0x7f6f13754f98>,\n",
              " 'material': <gensim.models.keyedvectors.Vocab at 0x7f6f13754240>,\n",
              " 'milestones': <gensim.models.keyedvectors.Vocab at 0x7f6f13754208>,\n",
              " 'military': <gensim.models.keyedvectors.Vocab at 0x7f6f0cd7f400>,\n",
              " 'minds': <gensim.models.keyedvectors.Vocab at 0x7f6f0cd7b860>,\n",
              " 'moguls': <gensim.models.keyedvectors.Vocab at 0x7f6f0cd7bc18>,\n",
              " 'must': <gensim.models.keyedvectors.Vocab at 0x7f6f0cd7edd8>,\n",
              " 'nation': <gensim.models.keyedvectors.Vocab at 0x7f6f0cd7b3c8>,\n",
              " 'nations': <gensim.models.keyedvectors.Vocab at 0x7f6f0cd7ecf8>,\n",
              " 'nuclear': <gensim.models.keyedvectors.Vocab at 0x7f6f13754128>,\n",
              " 'nurture': <gensim.models.keyedvectors.Vocab at 0x7f6f0cd7ea20>,\n",
              " 'one': <gensim.models.keyedvectors.Vocab at 0x7f6f0cd7ed30>,\n",
              " 'onwards': <gensim.models.keyedvectors.Vocab at 0x7f6f0cd7bd68>,\n",
              " 'opportunity': <gensim.models.keyedvectors.Vocab at 0x7f6f137547b8>,\n",
              " 'others.that': <gensim.models.keyedvectors.Vocab at 0x7f6f0cd7b240>,\n",
              " 'people': <gensim.models.keyedvectors.Vocab at 0x7f6f0cd7b630>,\n",
              " 'percent': <gensim.models.keyedvectors.Vocab at 0x7f6f0cd7e278>,\n",
              " 'portuguese': <gensim.models.keyedvectors.Vocab at 0x7f6f0cd7bc50>,\n",
              " 'poverty': <gensim.models.keyedvectors.Vocab at 0x7f6f0cd7f198>,\n",
              " 'power': <gensim.models.keyedvectors.Vocab at 0x7f6f0cd7f390>,\n",
              " 'prakash': <gensim.models.keyedvectors.Vocab at 0x7f6f13754dd8>,\n",
              " 'professor': <gensim.models.keyedvectors.Vocab at 0x7f6f0cd7f0b8>,\n",
              " 'protect': <gensim.models.keyedvectors.Vocab at 0x7f6f0cd7e6d8>,\n",
              " 'rate': <gensim.models.keyedvectors.Vocab at 0x7f6f0cd7ffd0>,\n",
              " 'recognised': <gensim.models.keyedvectors.Vocab at 0x7f6f0cd7fb70>,\n",
              " 'respect': <gensim.models.keyedvectors.Vocab at 0x7f6f0cd7b898>,\n",
              " 'respects': <gensim.models.keyedvectors.Vocab at 0x7f6f0cd7f3c8>,\n",
              " 'sarabhai': <gensim.models.keyedvectors.Vocab at 0x7f6f0cd7f2e8>,\n",
              " 'satish': <gensim.models.keyedvectors.Vocab at 0x7f6f0cd7fb38>,\n",
              " 'second': <gensim.models.keyedvectors.Vocab at 0x7f6f0cd7e710>,\n",
              " 'see': <gensim.models.keyedvectors.Vocab at 0x7f6f0cd7e0f0>,\n",
              " 'self-assured': <gensim.models.keyedvectors.Vocab at 0x7f6f0cd7fcc0>,\n",
              " 'self-confidence': <gensim.models.keyedvectors.Vocab at 0x7f6f0cd7f4a8>,\n",
              " 'self-reliant': <gensim.models.keyedvectors.Vocab at 0x7f6f0cd7fc50>,\n",
              " 'space': <gensim.models.keyedvectors.Vocab at 0x7f6f0cd7f1d0>,\n",
              " 'stand': <gensim.models.keyedvectors.Vocab at 0x7f6f0cd7f358>,\n",
              " 'stands': <gensim.models.keyedvectors.Vocab at 0x7f6f0cd7f438>,\n",
              " 'started': <gensim.models.keyedvectors.Vocab at 0x7f6f0cd7bdd8>,\n",
              " 'strength': <gensim.models.keyedvectors.Vocab at 0x7f6f0cd7fdd8>,\n",
              " 'strong': <gensim.models.keyedvectors.Vocab at 0x7f6f0cd7f7f0>,\n",
              " 'succeeded': <gensim.models.keyedvectors.Vocab at 0x7f6f13754748>,\n",
              " 'terms': <gensim.models.keyedvectors.Vocab at 0x7f6f0cd7e6a0>,\n",
              " 'third': <gensim.models.keyedvectors.Vocab at 0x7f6f0cd7f780>,\n",
              " 'three': <gensim.models.keyedvectors.Vocab at 0x7f6f0cd9ab70>,\n",
              " 'time': <gensim.models.keyedvectors.Vocab at 0x7f6f0cd7eba8>,\n",
              " 'today': <gensim.models.keyedvectors.Vocab at 0x7f6f0cd7f5c0>,\n",
              " 'took': <gensim.models.keyedvectors.Vocab at 0x7f6f0cd7bfd0>,\n",
              " 'top': <gensim.models.keyedvectors.Vocab at 0x7f6f0cd7e9b0>,\n",
              " 'tried': <gensim.models.keyedvectors.Vocab at 0x7f6f0cd7bc88>,\n",
              " 'turks': <gensim.models.keyedvectors.Vocab at 0x7f6f0cd7b390>,\n",
              " 'unless': <gensim.models.keyedvectors.Vocab at 0x7f6f0cd7f7b8>,\n",
              " 'us': <gensim.models.keyedvectors.Vocab at 0x7f6f0cd7bef0>,\n",
              " 'vikram': <gensim.models.keyedvectors.Vocab at 0x7f6f0cd7ff98>,\n",
              " 'vision': <gensim.models.keyedvectors.Vocab at 0x7f6f0cd7b2b0>,\n",
              " 'visions': <gensim.models.keyedvectors.Vocab at 0x7f6f362a4358>,\n",
              " 'war': <gensim.models.keyedvectors.Vocab at 0x7f6f0cd7e2e8>,\n",
              " 'way': <gensim.models.keyedvectors.Vocab at 0x7f6f0cd7be48>,\n",
              " 'worked': <gensim.models.keyedvectors.Vocab at 0x7f6f0cd7fbe0>,\n",
              " 'world': <gensim.models.keyedvectors.Vocab at 0x7f6f0cd7b550>,\n",
              " 'years': <gensim.models.keyedvectors.Vocab at 0x7f6f0cd7bf28>,\n",
              " 'yet': <gensim.models.keyedvectors.Vocab at 0x7f6f0cd7bf60>,\n",
              " '’': <gensim.models.keyedvectors.Vocab at 0x7f6f0cd7ef60>}"
            ]
          },
          "metadata": {
            "tags": []
          },
          "execution_count": 24
        }
      ]
    },
    {
      "cell_type": "code",
      "metadata": {
        "id": "kRTP6RfMLDJb"
      },
      "source": [
        "d = model.wv['three']"
      ],
      "execution_count": 26,
      "outputs": []
    },
    {
      "cell_type": "code",
      "metadata": {
        "colab": {
          "base_uri": "https://localhost:8080/"
        },
        "id": "0SmI54nuLTpU",
        "outputId": "3679734d-14d7-4ad0-bbb7-a39752350cfc"
      },
      "source": [
        "d"
      ],
      "execution_count": 27,
      "outputs": [
        {
          "output_type": "execute_result",
          "data": {
            "text/plain": [
              "array([-0.00057016,  0.00030866,  0.00469964, -0.0032397 , -0.00467532,\n",
              "       -0.00234076, -0.00416766, -0.00186446, -0.00101055,  0.00122974,\n",
              "        0.0008063 , -0.00289778,  0.00056328, -0.00065915,  0.0045219 ,\n",
              "        0.00427882, -0.00293833,  0.00362592, -0.00449981, -0.00043788,\n",
              "        0.0048698 , -0.00438458,  0.00234498,  0.00336821, -0.00288994,\n",
              "        0.0005206 ,  0.00087873,  0.00129723,  0.00024188, -0.00128842,\n",
              "       -0.00224243, -0.00051417, -0.00148916,  0.0046839 , -0.00299098,\n",
              "        0.00252295, -0.00381309, -0.0004159 , -0.00405498, -0.00337283,\n",
              "       -0.00116273, -0.00159251, -0.00040501, -0.00149229, -0.00474659,\n",
              "        0.00069633,  0.00127969,  0.00287276,  0.0041423 ,  0.00218153,\n",
              "       -0.00204616, -0.00123619,  0.00165868, -0.00388211,  0.00253033,\n",
              "       -0.00463601,  0.00378007,  0.00347178, -0.00177612, -0.00073919,\n",
              "       -0.00192261,  0.00344367, -0.00184391, -0.00264044,  0.00023515,\n",
              "       -0.00218557,  0.00298551, -0.0009406 , -0.00122019,  0.00197097,\n",
              "        0.00352898,  0.00360718, -0.00327561, -0.00418028, -0.00442373,\n",
              "        0.00421777,  0.00372355, -0.00290401,  0.00147376,  0.00319474,\n",
              "       -0.00449372, -0.00349534, -0.00263037, -0.00076745,  0.0048651 ,\n",
              "        0.00047043,  0.00479969, -0.00173989,  0.00399757, -0.00415279,\n",
              "        0.00164828, -0.00487368, -0.00363835, -0.00148709,  0.00025242,\n",
              "        0.00093806,  0.00164948, -0.00131133, -0.00246195, -0.001707  ],\n",
              "      dtype=float32)"
            ]
          },
          "metadata": {
            "tags": []
          },
          "execution_count": 27
        }
      ]
    },
    {
      "cell_type": "code",
      "metadata": {
        "colab": {
          "base_uri": "https://localhost:8080/"
        },
        "id": "nqXGOIYKLi2P",
        "outputId": "c08dc5cf-2509-4082-8ef3-12b543acc7b0"
      },
      "source": [
        "f = model.wv.most_similar('three')"
      ],
      "execution_count": 30,
      "outputs": [
        {
          "output_type": "stream",
          "text": [
            "/usr/local/lib/python3.6/dist-packages/gensim/matutils.py:737: FutureWarning: Conversion of the second argument of issubdtype from `int` to `np.signedinteger` is deprecated. In future, it will be treated as `np.int64 == np.dtype(int).type`.\n",
            "  if np.issubdtype(vec.dtype, np.int):\n"
          ],
          "name": "stderr"
        }
      ]
    },
    {
      "cell_type": "code",
      "metadata": {
        "colab": {
          "base_uri": "https://localhost:8080/"
        },
        "id": "uTlgo3tKL2Qp",
        "outputId": "f60e49b6-9994-4ec1-9e04-1c4a70e62770"
      },
      "source": [
        "f"
      ],
      "execution_count": 31,
      "outputs": [
        {
          "output_type": "execute_result",
          "data": {
            "text/plain": [
              "[('’', 0.27788156270980835),\n",
              " ('got', 0.2691182792186737),\n",
              " ('nation', 0.18975526094436646),\n",
              " ('levels', 0.1848025619983673),\n",
              " ('independence', 0.1763627827167511),\n",
              " ('anyone', 0.17308589816093445),\n",
              " ('vision', 0.1498849242925644),\n",
              " ('great', 0.1441805362701416),\n",
              " ('recognised', 0.13462448120117188),\n",
              " ('father', 0.12881776690483093)]"
            ]
          },
          "metadata": {
            "tags": []
          },
          "execution_count": 31
        }
      ]
    },
    {
      "cell_type": "code",
      "metadata": {
        "id": "o3QuZj04MDaw"
      },
      "source": [
        ""
      ],
      "execution_count": null,
      "outputs": []
    }
  ]
}